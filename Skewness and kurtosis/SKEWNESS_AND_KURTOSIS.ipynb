{
  "nbformat": 4,
  "nbformat_minor": 0,
  "metadata": {
    "kernelspec": {
      "display_name": "Python 3",
      "language": "python",
      "name": "python3"
    },
    "language_info": {
      "codemirror_mode": {
        "name": "ipython",
        "version": 3
      },
      "file_extension": ".py",
      "mimetype": "text/x-python",
      "name": "python",
      "nbconvert_exporter": "python",
      "pygments_lexer": "ipython3",
      "version": "3.7.3"
    },
    "colab": {
      "name": "SKEWNESS AND KURTOSIS.ipynb",
      "provenance": [],
      "collapsed_sections": []
    }
  },
  "cells": [
    {
      "cell_type": "markdown",
      "metadata": {
        "id": "e8w6r9a-zCBb",
        "colab_type": "text"
      },
      "source": [
        "#WHY DO WE CARE SO MUCH ABOUT NORAMLITY ?\n",
        "\n",
        "---"
      ]
    },
    {
      "cell_type": "markdown",
      "metadata": {
        "id": "C9agFEu-zTiU",
        "colab_type": "text"
      },
      "source": [
        "Most of the paramteric machine learning models like LDA, Linear Regression and amy more assume that the data is normally distributed. If this assumption fails the model fails to give accurate predictions."
      ]
    },
    {
      "cell_type": "markdown",
      "metadata": {
        "id": "Y4F7Mf6Gz-dV",
        "colab_type": "text"
      },
      "source": [
        "# WHAT IS NORMAL DISTRIBUTION ?"
      ]
    },
    {
      "cell_type": "markdown",
      "metadata": {
        "id": "fhO59qBP0E9-",
        "colab_type": "text"
      },
      "source": [
        "A probability distribution with the mean 0 and standard deviation of 1 is known as standard normal distribution or Gaussian distribution. A normal distibution is **symmetric** about the mean and follows a **bell shaped curve** . And almost 99.7% of the values lies within 3 standard deviation. The mean, median and mode of a normal distribution are equal.\n",
        "\n",
        "---\n",
        "\n"
      ]
    },
    {
      "cell_type": "markdown",
      "metadata": {
        "id": "wOI9R6-yR3Ag",
        "colab_type": "text"
      },
      "source": [
        "# SKEWNESS"
      ]
    },
    {
      "cell_type": "markdown",
      "metadata": {
        "id": "dRAtRUHUR3Al",
        "colab_type": "text"
      },
      "source": [
        "## What is skewness?"
      ]
    },
    {
      "cell_type": "markdown",
      "metadata": {
        "id": "DLdCPkdaR3Aq",
        "colab_type": "text"
      },
      "source": [
        "Skewness of a distribution is defined as the lack of symmetry. In a symmetrical distribution, the Mean, Meadian and Mode are equal.The normal distribution has a skewness of 0.\n",
        "\n",
        "\n",
        "Skewness tell us about distribution of our data.\n",
        "\n",
        "\n",
        "<a href=\"https://imgur.com/6SH4wau.png\"><img src=\"https://imgur.com/6SH4wau.png\" title=\"source: imgur.com\" /></a>\n",
        "\n",
        "##Skewness is of two types:\n",
        "\n",
        "* **Positive skewness:** When the tail on the right side of the distribution is longer or fatter, we say the data is positively skewed. For a positive skewness mean > median > mode.   \n",
        "\n",
        "* **Negative skewness:** When the tail on the left side of the distribution is longer or fatter, we say that the distribution is negatively skewed. For a negative skewness mean < median < mode.\n",
        "---\n",
        "\n",
        "## What does skewness tells us?\n",
        "To understand this better consider a example.\n",
        "\n",
        "Consider house prices ranging from 100k to 1,000,000 with the average being 500,000. \n",
        "\n",
        "If the peak of the distribution is in left side that means our data is positively skewed and most of the houses are being sold at the price less than the average.  \n",
        "\n",
        "If the peak of the distribution is in right side that means our data is negatively skewed and most of the houses are being sold at the price greater than the average.\n"
      ]
    },
    {
      "cell_type": "markdown",
      "metadata": {
        "id": "wMcaVn8cR3Ay",
        "colab_type": "text"
      },
      "source": [
        "Now, the question is when we can say our data is mderately skewed or heavily skewed?\n",
        "  \n",
        "  The thumb rule is:\n",
        "  If the skewness is between -0.5 to +0.5 then we can say data is fairly symmetrical.\n",
        "  If the skewness is between -1 to -0.5 or 0.5 to 1 then data is moderately skewed.\n",
        "  And if the skewness is less than -1 and greater than +1 then our data is heavily skewed.\n",
        "\n",
        "\n",
        "---\n",
        "\n",
        "\n",
        "\n",
        "---\n",
        "\n"
      ]
    },
    {
      "cell_type": "markdown",
      "metadata": {
        "id": "-Gi8ScRSR3A5",
        "colab_type": "text"
      },
      "source": [
        "# KURTOSIS"
      ]
    },
    {
      "cell_type": "markdown",
      "metadata": {
        "id": "WtG6xgSeR3A9",
        "colab_type": "text"
      },
      "source": [
        "You might have heard that kurtosis tells us about the shape or peakedness or flatness of the distribution but this is not correct. Kurtosis tell us about the tails behaviour. It is actually the measure of outliers present in the distribution. \n",
        "\n",
        "<a href=\"https://imgur.com/7FuwfAK.png\"><img src=\"https://imgur.com/7FuwfAK.png\" title=\"source: imgur.com\" /></a>\n",
        "\n",
        "\n",
        "\n"
      ]
    },
    {
      "cell_type": "markdown",
      "metadata": {
        "id": "82HNFgbqR3BA",
        "colab_type": "text"
      },
      "source": [
        "##Kurtosis are of three types:\n",
        "\n",
        "* **Mesokurtic:** When the tails of the distibution is similar to the normal distribution then it is mesokurtic. The kutosis for normal distibution is 3.\n",
        "\n",
        "* **Leptokurtic:** If the kurtosis is greater than 3 then it is leptokurtic. In this case, the tails will be heaviour than the normal distribution which means lots of outliers are present in the data. It can be recognized as thin bell shaped distribution with peak higher than normal distribution.\n",
        "\n",
        "* **Platykurtic:** Kurtosis will be less than 3 which implies thinner tail or lack of outliers than normal distribution.In case of platykurtic, bell shaped distribution will be broader and peak will be lower than the mesokurtic.\n",
        "\n",
        "\n",
        "---\n",
        "\n",
        "\n",
        "\n",
        "---\n",
        "\n"
      ]
    },
    {
      "cell_type": "markdown",
      "metadata": {
        "id": "1op5BXcVR3BC",
        "colab_type": "text"
      },
      "source": [
        "# Tranformations to reduce skewness or kurtosis\n"
      ]
    },
    {
      "cell_type": "markdown",
      "metadata": {
        "id": "lSb-WUbrR3BF",
        "colab_type": "text"
      },
      "source": [
        "\n",
        "Let's take an example to handle the skewness and kutosis in a dataset. For this, I have used the 'House Pricing' data."
      ]
    },
    {
      "cell_type": "code",
      "metadata": {
        "id": "5v-jZRlJR3BI",
        "colab_type": "code",
        "colab": {}
      },
      "source": [
        "#Importing necessary libraries\n",
        "import numpy as np\n",
        "import pandas as pd\n",
        "import matplotlib.pyplot as plt\n",
        "import seaborn as sns \n",
        "%matplotlib inline\n",
        "from scipy.stats import skew, skewtest, norm\n",
        "import scipy.stats as st\n",
        "from scipy.stats import kurtosis\n",
        "from scipy.stats import boxcox"
      ],
      "execution_count": 0,
      "outputs": []
    },
    {
      "cell_type": "markdown",
      "metadata": {
        "id": "X5N7vK3wM44i",
        "colab_type": "text"
      },
      "source": [
        "##Read Data"
      ]
    },
    {
      "cell_type": "code",
      "metadata": {
        "id": "AiHzZVdeR3B7",
        "colab_type": "code",
        "outputId": "38bc8bc4-3eab-4948-d6f6-d66369d5488a",
        "colab": {
          "base_uri": "https://localhost:8080/",
          "height": 253
        }
      },
      "source": [
        "#read data\n",
        "df= pd.read_csv('/content/drive/My Drive/data_set/house_prices_k.csv')\n",
        "df.head()"
      ],
      "execution_count": 0,
      "outputs": [
        {
          "output_type": "execute_result",
          "data": {
            "text/html": [
              "<div>\n",
              "<style scoped>\n",
              "    .dataframe tbody tr th:only-of-type {\n",
              "        vertical-align: middle;\n",
              "    }\n",
              "\n",
              "    .dataframe tbody tr th {\n",
              "        vertical-align: top;\n",
              "    }\n",
              "\n",
              "    .dataframe thead th {\n",
              "        text-align: right;\n",
              "    }\n",
              "</style>\n",
              "<table border=\"1\" class=\"dataframe\">\n",
              "  <thead>\n",
              "    <tr style=\"text-align: right;\">\n",
              "      <th></th>\n",
              "      <th>Id</th>\n",
              "      <th>MSSubClass</th>\n",
              "      <th>MSZoning</th>\n",
              "      <th>LotFrontage</th>\n",
              "      <th>LotArea</th>\n",
              "      <th>Street</th>\n",
              "      <th>Alley</th>\n",
              "      <th>LotShape</th>\n",
              "      <th>LandContour</th>\n",
              "      <th>Utilities</th>\n",
              "      <th>LotConfig</th>\n",
              "      <th>LandSlope</th>\n",
              "      <th>Neighborhood</th>\n",
              "      <th>Condition1</th>\n",
              "      <th>Condition2</th>\n",
              "      <th>BldgType</th>\n",
              "      <th>HouseStyle</th>\n",
              "      <th>OverallQual</th>\n",
              "      <th>OverallCond</th>\n",
              "      <th>YearBuilt</th>\n",
              "      <th>YearRemodAdd</th>\n",
              "      <th>RoofStyle</th>\n",
              "      <th>RoofMatl</th>\n",
              "      <th>Exterior1st</th>\n",
              "      <th>Exterior2nd</th>\n",
              "      <th>MasVnrType</th>\n",
              "      <th>MasVnrArea</th>\n",
              "      <th>ExterQual</th>\n",
              "      <th>ExterCond</th>\n",
              "      <th>Foundation</th>\n",
              "      <th>BsmtQual</th>\n",
              "      <th>BsmtCond</th>\n",
              "      <th>BsmtExposure</th>\n",
              "      <th>BsmtFinType1</th>\n",
              "      <th>BsmtFinSF1</th>\n",
              "      <th>BsmtFinType2</th>\n",
              "      <th>BsmtFinSF2</th>\n",
              "      <th>BsmtUnfSF</th>\n",
              "      <th>TotalBsmtSF</th>\n",
              "      <th>Heating</th>\n",
              "      <th>...</th>\n",
              "      <th>CentralAir</th>\n",
              "      <th>Electrical</th>\n",
              "      <th>1stFlrSF</th>\n",
              "      <th>2ndFlrSF</th>\n",
              "      <th>LowQualFinSF</th>\n",
              "      <th>GrLivArea</th>\n",
              "      <th>BsmtFullBath</th>\n",
              "      <th>BsmtHalfBath</th>\n",
              "      <th>FullBath</th>\n",
              "      <th>HalfBath</th>\n",
              "      <th>BedroomAbvGr</th>\n",
              "      <th>KitchenAbvGr</th>\n",
              "      <th>KitchenQual</th>\n",
              "      <th>TotRmsAbvGrd</th>\n",
              "      <th>Functional</th>\n",
              "      <th>Fireplaces</th>\n",
              "      <th>FireplaceQu</th>\n",
              "      <th>GarageType</th>\n",
              "      <th>GarageYrBlt</th>\n",
              "      <th>GarageFinish</th>\n",
              "      <th>GarageCars</th>\n",
              "      <th>GarageArea</th>\n",
              "      <th>GarageQual</th>\n",
              "      <th>GarageCond</th>\n",
              "      <th>PavedDrive</th>\n",
              "      <th>WoodDeckSF</th>\n",
              "      <th>OpenPorchSF</th>\n",
              "      <th>EnclosedPorch</th>\n",
              "      <th>3SsnPorch</th>\n",
              "      <th>ScreenPorch</th>\n",
              "      <th>PoolArea</th>\n",
              "      <th>PoolQC</th>\n",
              "      <th>Fence</th>\n",
              "      <th>MiscFeature</th>\n",
              "      <th>MiscVal</th>\n",
              "      <th>MoSold</th>\n",
              "      <th>YrSold</th>\n",
              "      <th>SaleType</th>\n",
              "      <th>SaleCondition</th>\n",
              "      <th>SalePrice</th>\n",
              "    </tr>\n",
              "  </thead>\n",
              "  <tbody>\n",
              "    <tr>\n",
              "      <th>0</th>\n",
              "      <td>1</td>\n",
              "      <td>60</td>\n",
              "      <td>RL</td>\n",
              "      <td>65.0</td>\n",
              "      <td>8450</td>\n",
              "      <td>Pave</td>\n",
              "      <td>NaN</td>\n",
              "      <td>Reg</td>\n",
              "      <td>Lvl</td>\n",
              "      <td>AllPub</td>\n",
              "      <td>Inside</td>\n",
              "      <td>Gtl</td>\n",
              "      <td>CollgCr</td>\n",
              "      <td>Norm</td>\n",
              "      <td>Norm</td>\n",
              "      <td>1Fam</td>\n",
              "      <td>2Story</td>\n",
              "      <td>7</td>\n",
              "      <td>5</td>\n",
              "      <td>2003</td>\n",
              "      <td>2003</td>\n",
              "      <td>Gable</td>\n",
              "      <td>CompShg</td>\n",
              "      <td>VinylSd</td>\n",
              "      <td>VinylSd</td>\n",
              "      <td>BrkFace</td>\n",
              "      <td>196.0</td>\n",
              "      <td>Gd</td>\n",
              "      <td>TA</td>\n",
              "      <td>PConc</td>\n",
              "      <td>Gd</td>\n",
              "      <td>TA</td>\n",
              "      <td>No</td>\n",
              "      <td>GLQ</td>\n",
              "      <td>706</td>\n",
              "      <td>Unf</td>\n",
              "      <td>0</td>\n",
              "      <td>150</td>\n",
              "      <td>856</td>\n",
              "      <td>GasA</td>\n",
              "      <td>...</td>\n",
              "      <td>Y</td>\n",
              "      <td>SBrkr</td>\n",
              "      <td>856</td>\n",
              "      <td>854</td>\n",
              "      <td>0</td>\n",
              "      <td>1710</td>\n",
              "      <td>1</td>\n",
              "      <td>0</td>\n",
              "      <td>2</td>\n",
              "      <td>1</td>\n",
              "      <td>3</td>\n",
              "      <td>1</td>\n",
              "      <td>Gd</td>\n",
              "      <td>8</td>\n",
              "      <td>Typ</td>\n",
              "      <td>0</td>\n",
              "      <td>NaN</td>\n",
              "      <td>Attchd</td>\n",
              "      <td>2003.0</td>\n",
              "      <td>RFn</td>\n",
              "      <td>2</td>\n",
              "      <td>548</td>\n",
              "      <td>TA</td>\n",
              "      <td>TA</td>\n",
              "      <td>Y</td>\n",
              "      <td>0</td>\n",
              "      <td>61</td>\n",
              "      <td>0</td>\n",
              "      <td>0</td>\n",
              "      <td>0</td>\n",
              "      <td>0</td>\n",
              "      <td>NaN</td>\n",
              "      <td>NaN</td>\n",
              "      <td>NaN</td>\n",
              "      <td>0</td>\n",
              "      <td>2</td>\n",
              "      <td>2008</td>\n",
              "      <td>WD</td>\n",
              "      <td>Normal</td>\n",
              "      <td>208500</td>\n",
              "    </tr>\n",
              "    <tr>\n",
              "      <th>1</th>\n",
              "      <td>2</td>\n",
              "      <td>20</td>\n",
              "      <td>RL</td>\n",
              "      <td>80.0</td>\n",
              "      <td>9600</td>\n",
              "      <td>Pave</td>\n",
              "      <td>NaN</td>\n",
              "      <td>Reg</td>\n",
              "      <td>Lvl</td>\n",
              "      <td>AllPub</td>\n",
              "      <td>FR2</td>\n",
              "      <td>Gtl</td>\n",
              "      <td>Veenker</td>\n",
              "      <td>Feedr</td>\n",
              "      <td>Norm</td>\n",
              "      <td>1Fam</td>\n",
              "      <td>1Story</td>\n",
              "      <td>6</td>\n",
              "      <td>8</td>\n",
              "      <td>1976</td>\n",
              "      <td>1976</td>\n",
              "      <td>Gable</td>\n",
              "      <td>CompShg</td>\n",
              "      <td>MetalSd</td>\n",
              "      <td>MetalSd</td>\n",
              "      <td>None</td>\n",
              "      <td>0.0</td>\n",
              "      <td>TA</td>\n",
              "      <td>TA</td>\n",
              "      <td>CBlock</td>\n",
              "      <td>Gd</td>\n",
              "      <td>TA</td>\n",
              "      <td>Gd</td>\n",
              "      <td>ALQ</td>\n",
              "      <td>978</td>\n",
              "      <td>Unf</td>\n",
              "      <td>0</td>\n",
              "      <td>284</td>\n",
              "      <td>1262</td>\n",
              "      <td>GasA</td>\n",
              "      <td>...</td>\n",
              "      <td>Y</td>\n",
              "      <td>SBrkr</td>\n",
              "      <td>1262</td>\n",
              "      <td>0</td>\n",
              "      <td>0</td>\n",
              "      <td>1262</td>\n",
              "      <td>0</td>\n",
              "      <td>1</td>\n",
              "      <td>2</td>\n",
              "      <td>0</td>\n",
              "      <td>3</td>\n",
              "      <td>1</td>\n",
              "      <td>TA</td>\n",
              "      <td>6</td>\n",
              "      <td>Typ</td>\n",
              "      <td>1</td>\n",
              "      <td>TA</td>\n",
              "      <td>Attchd</td>\n",
              "      <td>1976.0</td>\n",
              "      <td>RFn</td>\n",
              "      <td>2</td>\n",
              "      <td>460</td>\n",
              "      <td>TA</td>\n",
              "      <td>TA</td>\n",
              "      <td>Y</td>\n",
              "      <td>298</td>\n",
              "      <td>0</td>\n",
              "      <td>0</td>\n",
              "      <td>0</td>\n",
              "      <td>0</td>\n",
              "      <td>0</td>\n",
              "      <td>NaN</td>\n",
              "      <td>NaN</td>\n",
              "      <td>NaN</td>\n",
              "      <td>0</td>\n",
              "      <td>5</td>\n",
              "      <td>2007</td>\n",
              "      <td>WD</td>\n",
              "      <td>Normal</td>\n",
              "      <td>181500</td>\n",
              "    </tr>\n",
              "    <tr>\n",
              "      <th>2</th>\n",
              "      <td>3</td>\n",
              "      <td>60</td>\n",
              "      <td>RL</td>\n",
              "      <td>68.0</td>\n",
              "      <td>11250</td>\n",
              "      <td>Pave</td>\n",
              "      <td>NaN</td>\n",
              "      <td>IR1</td>\n",
              "      <td>Lvl</td>\n",
              "      <td>AllPub</td>\n",
              "      <td>Inside</td>\n",
              "      <td>Gtl</td>\n",
              "      <td>CollgCr</td>\n",
              "      <td>Norm</td>\n",
              "      <td>Norm</td>\n",
              "      <td>1Fam</td>\n",
              "      <td>2Story</td>\n",
              "      <td>7</td>\n",
              "      <td>5</td>\n",
              "      <td>2001</td>\n",
              "      <td>2002</td>\n",
              "      <td>Gable</td>\n",
              "      <td>CompShg</td>\n",
              "      <td>VinylSd</td>\n",
              "      <td>VinylSd</td>\n",
              "      <td>BrkFace</td>\n",
              "      <td>162.0</td>\n",
              "      <td>Gd</td>\n",
              "      <td>TA</td>\n",
              "      <td>PConc</td>\n",
              "      <td>Gd</td>\n",
              "      <td>TA</td>\n",
              "      <td>Mn</td>\n",
              "      <td>GLQ</td>\n",
              "      <td>486</td>\n",
              "      <td>Unf</td>\n",
              "      <td>0</td>\n",
              "      <td>434</td>\n",
              "      <td>920</td>\n",
              "      <td>GasA</td>\n",
              "      <td>...</td>\n",
              "      <td>Y</td>\n",
              "      <td>SBrkr</td>\n",
              "      <td>920</td>\n",
              "      <td>866</td>\n",
              "      <td>0</td>\n",
              "      <td>1786</td>\n",
              "      <td>1</td>\n",
              "      <td>0</td>\n",
              "      <td>2</td>\n",
              "      <td>1</td>\n",
              "      <td>3</td>\n",
              "      <td>1</td>\n",
              "      <td>Gd</td>\n",
              "      <td>6</td>\n",
              "      <td>Typ</td>\n",
              "      <td>1</td>\n",
              "      <td>TA</td>\n",
              "      <td>Attchd</td>\n",
              "      <td>2001.0</td>\n",
              "      <td>RFn</td>\n",
              "      <td>2</td>\n",
              "      <td>608</td>\n",
              "      <td>TA</td>\n",
              "      <td>TA</td>\n",
              "      <td>Y</td>\n",
              "      <td>0</td>\n",
              "      <td>42</td>\n",
              "      <td>0</td>\n",
              "      <td>0</td>\n",
              "      <td>0</td>\n",
              "      <td>0</td>\n",
              "      <td>NaN</td>\n",
              "      <td>NaN</td>\n",
              "      <td>NaN</td>\n",
              "      <td>0</td>\n",
              "      <td>9</td>\n",
              "      <td>2008</td>\n",
              "      <td>WD</td>\n",
              "      <td>Normal</td>\n",
              "      <td>223500</td>\n",
              "    </tr>\n",
              "    <tr>\n",
              "      <th>3</th>\n",
              "      <td>4</td>\n",
              "      <td>70</td>\n",
              "      <td>RL</td>\n",
              "      <td>60.0</td>\n",
              "      <td>9550</td>\n",
              "      <td>Pave</td>\n",
              "      <td>NaN</td>\n",
              "      <td>IR1</td>\n",
              "      <td>Lvl</td>\n",
              "      <td>AllPub</td>\n",
              "      <td>Corner</td>\n",
              "      <td>Gtl</td>\n",
              "      <td>Crawfor</td>\n",
              "      <td>Norm</td>\n",
              "      <td>Norm</td>\n",
              "      <td>1Fam</td>\n",
              "      <td>2Story</td>\n",
              "      <td>7</td>\n",
              "      <td>5</td>\n",
              "      <td>1915</td>\n",
              "      <td>1970</td>\n",
              "      <td>Gable</td>\n",
              "      <td>CompShg</td>\n",
              "      <td>Wd Sdng</td>\n",
              "      <td>Wd Shng</td>\n",
              "      <td>None</td>\n",
              "      <td>0.0</td>\n",
              "      <td>TA</td>\n",
              "      <td>TA</td>\n",
              "      <td>BrkTil</td>\n",
              "      <td>TA</td>\n",
              "      <td>Gd</td>\n",
              "      <td>No</td>\n",
              "      <td>ALQ</td>\n",
              "      <td>216</td>\n",
              "      <td>Unf</td>\n",
              "      <td>0</td>\n",
              "      <td>540</td>\n",
              "      <td>756</td>\n",
              "      <td>GasA</td>\n",
              "      <td>...</td>\n",
              "      <td>Y</td>\n",
              "      <td>SBrkr</td>\n",
              "      <td>961</td>\n",
              "      <td>756</td>\n",
              "      <td>0</td>\n",
              "      <td>1717</td>\n",
              "      <td>1</td>\n",
              "      <td>0</td>\n",
              "      <td>1</td>\n",
              "      <td>0</td>\n",
              "      <td>3</td>\n",
              "      <td>1</td>\n",
              "      <td>Gd</td>\n",
              "      <td>7</td>\n",
              "      <td>Typ</td>\n",
              "      <td>1</td>\n",
              "      <td>Gd</td>\n",
              "      <td>Detchd</td>\n",
              "      <td>1998.0</td>\n",
              "      <td>Unf</td>\n",
              "      <td>3</td>\n",
              "      <td>642</td>\n",
              "      <td>TA</td>\n",
              "      <td>TA</td>\n",
              "      <td>Y</td>\n",
              "      <td>0</td>\n",
              "      <td>35</td>\n",
              "      <td>272</td>\n",
              "      <td>0</td>\n",
              "      <td>0</td>\n",
              "      <td>0</td>\n",
              "      <td>NaN</td>\n",
              "      <td>NaN</td>\n",
              "      <td>NaN</td>\n",
              "      <td>0</td>\n",
              "      <td>2</td>\n",
              "      <td>2006</td>\n",
              "      <td>WD</td>\n",
              "      <td>Abnorml</td>\n",
              "      <td>140000</td>\n",
              "    </tr>\n",
              "    <tr>\n",
              "      <th>4</th>\n",
              "      <td>5</td>\n",
              "      <td>60</td>\n",
              "      <td>RL</td>\n",
              "      <td>84.0</td>\n",
              "      <td>14260</td>\n",
              "      <td>Pave</td>\n",
              "      <td>NaN</td>\n",
              "      <td>IR1</td>\n",
              "      <td>Lvl</td>\n",
              "      <td>AllPub</td>\n",
              "      <td>FR2</td>\n",
              "      <td>Gtl</td>\n",
              "      <td>NoRidge</td>\n",
              "      <td>Norm</td>\n",
              "      <td>Norm</td>\n",
              "      <td>1Fam</td>\n",
              "      <td>2Story</td>\n",
              "      <td>8</td>\n",
              "      <td>5</td>\n",
              "      <td>2000</td>\n",
              "      <td>2000</td>\n",
              "      <td>Gable</td>\n",
              "      <td>CompShg</td>\n",
              "      <td>VinylSd</td>\n",
              "      <td>VinylSd</td>\n",
              "      <td>BrkFace</td>\n",
              "      <td>350.0</td>\n",
              "      <td>Gd</td>\n",
              "      <td>TA</td>\n",
              "      <td>PConc</td>\n",
              "      <td>Gd</td>\n",
              "      <td>TA</td>\n",
              "      <td>Av</td>\n",
              "      <td>GLQ</td>\n",
              "      <td>655</td>\n",
              "      <td>Unf</td>\n",
              "      <td>0</td>\n",
              "      <td>490</td>\n",
              "      <td>1145</td>\n",
              "      <td>GasA</td>\n",
              "      <td>...</td>\n",
              "      <td>Y</td>\n",
              "      <td>SBrkr</td>\n",
              "      <td>1145</td>\n",
              "      <td>1053</td>\n",
              "      <td>0</td>\n",
              "      <td>2198</td>\n",
              "      <td>1</td>\n",
              "      <td>0</td>\n",
              "      <td>2</td>\n",
              "      <td>1</td>\n",
              "      <td>4</td>\n",
              "      <td>1</td>\n",
              "      <td>Gd</td>\n",
              "      <td>9</td>\n",
              "      <td>Typ</td>\n",
              "      <td>1</td>\n",
              "      <td>TA</td>\n",
              "      <td>Attchd</td>\n",
              "      <td>2000.0</td>\n",
              "      <td>RFn</td>\n",
              "      <td>3</td>\n",
              "      <td>836</td>\n",
              "      <td>TA</td>\n",
              "      <td>TA</td>\n",
              "      <td>Y</td>\n",
              "      <td>192</td>\n",
              "      <td>84</td>\n",
              "      <td>0</td>\n",
              "      <td>0</td>\n",
              "      <td>0</td>\n",
              "      <td>0</td>\n",
              "      <td>NaN</td>\n",
              "      <td>NaN</td>\n",
              "      <td>NaN</td>\n",
              "      <td>0</td>\n",
              "      <td>12</td>\n",
              "      <td>2008</td>\n",
              "      <td>WD</td>\n",
              "      <td>Normal</td>\n",
              "      <td>250000</td>\n",
              "    </tr>\n",
              "  </tbody>\n",
              "</table>\n",
              "<p>5 rows × 81 columns</p>\n",
              "</div>"
            ],
            "text/plain": [
              "   Id  MSSubClass MSZoning  ...  SaleType  SaleCondition SalePrice\n",
              "0   1          60       RL  ...        WD         Normal    208500\n",
              "1   2          20       RL  ...        WD         Normal    181500\n",
              "2   3          60       RL  ...        WD         Normal    223500\n",
              "3   4          70       RL  ...        WD        Abnorml    140000\n",
              "4   5          60       RL  ...        WD         Normal    250000\n",
              "\n",
              "[5 rows x 81 columns]"
            ]
          },
          "metadata": {
            "tags": []
          },
          "execution_count": 4
        }
      ]
    },
    {
      "cell_type": "markdown",
      "metadata": {
        "id": "HUJSb45CNHsb",
        "colab_type": "text"
      },
      "source": [
        "### Check Description of SalePrice"
      ]
    },
    {
      "cell_type": "code",
      "metadata": {
        "id": "1yl_-JWeR3CL",
        "colab_type": "code",
        "outputId": "2d79a152-4dc9-4b06-9201-b3073d96df9c",
        "colab": {
          "base_uri": "https://localhost:8080/",
          "height": 170
        }
      },
      "source": [
        "df['SalePrice'].describe()"
      ],
      "execution_count": 0,
      "outputs": [
        {
          "output_type": "execute_result",
          "data": {
            "text/plain": [
              "count      1460.000000\n",
              "mean     180921.195890\n",
              "std       79442.502883\n",
              "min       34900.000000\n",
              "25%      129975.000000\n",
              "50%      163000.000000\n",
              "75%      214000.000000\n",
              "max      755000.000000\n",
              "Name: SalePrice, dtype: float64"
            ]
          },
          "metadata": {
            "tags": []
          },
          "execution_count": 8
        }
      ]
    },
    {
      "cell_type": "markdown",
      "metadata": {
        "id": "tOMA1MYRaOpN",
        "colab_type": "text"
      },
      "source": [
        "Here we can see that Mean (180921) is greater than the median(163000) and the maximum is 3.5 times the 75%. (The distribution is positvely skewed).\n",
        "* We can say that most of the house prices are below the average."
      ]
    },
    {
      "cell_type": "markdown",
      "metadata": {
        "id": "IjdN7IY8bXil",
        "colab_type": "text"
      },
      "source": [
        "### Let's plot and check distirbution"
      ]
    },
    {
      "cell_type": "code",
      "metadata": {
        "id": "JK00BhvKR3Cl",
        "colab_type": "code",
        "outputId": "ebada874-a3ba-40db-dcce-43d30f49bb0f",
        "colab": {
          "base_uri": "https://localhost:8080/",
          "height": 399
        }
      },
      "source": [
        "#Plot and check the distribution \n",
        "plt.figure(figsize=(12,6))\n",
        "sns.distplot(df['SalePrice'],fit=norm, color =\"r\")\n",
        "plt.show()"
      ],
      "execution_count": 0,
      "outputs": [
        {
          "output_type": "display_data",
          "data": {
            "image/png": "[encoded data removed]",
            "text/plain": [
              "<Figure size 864x432 with 1 Axes>"
            ]
          },
          "metadata": {
            "tags": [],
            "needs_background": "light"
          }
        }
      ]
    },
    {
      "cell_type": "markdown",
      "metadata": {
        "id": "QfHfV9DBczro",
        "colab_type": "text"
      },
      "source": [
        "The histogram confirm that our dataset is positively skewed."
      ]
    },
    {
      "cell_type": "markdown",
      "metadata": {
        "id": "NqnFP9qbdEYe",
        "colab_type": "text"
      },
      "source": [
        "### Now let's check the measure of skewness and kurtosis"
      ]
    },
    {
      "cell_type": "code",
      "metadata": {
        "id": "gvV52YaJcyS7",
        "colab_type": "code",
        "outputId": "7b732879-435a-488d-8b3b-377c4d592cf0",
        "colab": {
          "base_uri": "https://localhost:8080/",
          "height": 51
        }
      },
      "source": [
        "print(\"Skew of raw data: %f\" % df['SalePrice'].skew()) #check skewness\n",
        "print(\"Kurtosis of raw data: %f\" % kurtosis(df['SalePrice'],fisher = False)) #check kurtosis"
      ],
      "execution_count": 0,
      "outputs": [
        {
          "output_type": "stream",
          "text": [
            "Skew of raw data: 1.882876\n",
            "Kurtosis of raw data: 9.509812\n"
          ],
          "name": "stdout"
        }
      ]
    },
    {
      "cell_type": "markdown",
      "metadata": {
        "id": "hab5tPUkR3Cy",
        "colab_type": "text"
      },
      "source": [
        "Here, skew of raw data is positive and greater than 1,and kurtosis is greater than 3, right tail of the data is skewed. So, our data in this case is positively skewed and lyptokurtic.\n",
        "\n",
        "Note- If we are keeping 'fisher=True', then kurtosis of normal distibution will be 0. Similarly, kurtosis >0 will be leptokurtic and kurtosis < 0 will be platykurtic"
      ]
    },
    {
      "cell_type": "markdown",
      "metadata": {
        "id": "HVV_b0G3R3C0",
        "colab_type": "text"
      },
      "source": [
        "##Common transformation method to handle positively skewed data are\n",
        "* square root transformation \n",
        "* Cube root transformation\n",
        "* log transformations\n"
      ]
    },
    {
      "cell_type": "markdown",
      "metadata": {
        "id": "jtQA9YUGhO9V",
        "colab_type": "text"
      },
      "source": [
        "###Let's look at the effect of all these transformation on our dataset."
      ]
    },
    {
      "cell_type": "markdown",
      "metadata": {
        "id": "1TTzi13DhdDG",
        "colab_type": "text"
      },
      "source": [
        "### Square root transformation"
      ]
    },
    {
      "cell_type": "markdown",
      "metadata": {
        "id": "Wy4awLtjjj5b",
        "colab_type": "text"
      },
      "source": [
        "One thing to insure before applying sqare root transformation is that all the values must be positive."
      ]
    },
    {
      "cell_type": "code",
      "metadata": {
        "id": "h08X_KO0R3C2",
        "colab_type": "code",
        "outputId": "f9c34688-50af-4d2f-d59a-82e2f93222ec",
        "colab": {
          "base_uri": "https://localhost:8080/",
          "height": 541
        }
      },
      "source": [
        "# Square root transformation\n",
        "plt.figure(figsize=(12,6))\n",
        "square_root = df['SalePrice']**(1/2)\n",
        "sns.distplot(square_root,fit=norm, color =\"r\") #plot distplot\n",
        "square_root.describe()"
      ],
      "execution_count": 0,
      "outputs": [
        {
          "output_type": "execute_result",
          "data": {
            "text/plain": [
              "count    1460.000000\n",
              "mean      416.617225\n",
              "std        85.769006\n",
              "min       186.815417\n",
              "25%       360.520452\n",
              "50%       403.732585\n",
              "75%       462.601340\n",
              "max       868.907360\n",
              "Name: SalePrice, dtype: float64"
            ]
          },
          "metadata": {
            "tags": []
          },
          "execution_count": 17
        },
        {
          "output_type": "display_data",
          "data": {
            "image/png": "[encoded data removed]",
            "text/plain": [
              "<Figure size 864x432 with 1 Axes>"
            ]
          },
          "metadata": {
            "tags": [],
            "needs_background": "light"
          }
        }
      ]
    },
    {
      "cell_type": "markdown",
      "metadata": {
        "id": "P1J-WSChh0wd",
        "colab_type": "text"
      },
      "source": [
        "We can notice that the Mean(416.62) and Median(403.73) has been reduced and are close to each other. But the maximum value is twice of 75 percentile."
      ]
    },
    {
      "cell_type": "markdown",
      "metadata": {
        "id": "3NiNKXXpi3da",
        "colab_type": "text"
      },
      "source": [
        "### Check the kurtosis and skewness"
      ]
    },
    {
      "cell_type": "code",
      "metadata": {
        "id": "wze24DWei8b4",
        "colab_type": "code",
        "outputId": "38925904-c9f7-460d-b112-3868cd25c313",
        "colab": {
          "base_uri": "https://localhost:8080/",
          "height": 51
        }
      },
      "source": [
        "print(\"Skew after square root Transformation: %f\" % square_root.skew())\n",
        "print(\"Kurtosis after square root Transformation: %f\" % kurtosis(square_root,fisher = False))"
      ],
      "execution_count": 0,
      "outputs": [
        {
          "output_type": "stream",
          "text": [
            "Skew after square root Transformation: 0.943153\n",
            "Kurtosis after square root Transformation: 4.946999\n"
          ],
          "name": "stdout"
        }
      ]
    },
    {
      "cell_type": "markdown",
      "metadata": {
        "id": "5U5luMprR3DG",
        "colab_type": "text"
      },
      "source": [
        "The square root transformation has reduced the skewness and kutosis here but still the values on the right side are not normally distributed. Maximum value is twice of 75th percentile value."
      ]
    },
    {
      "cell_type": "markdown",
      "metadata": {
        "id": "rI0C9am1jsZn",
        "colab_type": "text"
      },
      "source": [
        "### Cube Root Transformation"
      ]
    },
    {
      "cell_type": "code",
      "metadata": {
        "id": "-l3Xx7-GR3DI",
        "colab_type": "code",
        "outputId": "8162c625-c35f-4590-e211-a28771c7a253",
        "colab": {
          "base_uri": "https://localhost:8080/",
          "height": 575
        }
      },
      "source": [
        "#cube root transformation\n",
        "plt.figure(figsize=(12,6))\n",
        "cube_root = df['SalePrice']**(1/3)\n",
        "sns.distplot(cube_root, fit=norm,color =\"r\")\n",
        "print(\"Skew after cube root Transformation: %f\" % cube_root.skew())\n",
        "print(\"Kurtosis after cube root Transformation: %f\" % kurtosis(cube_root,fisher = False))\n",
        "cube_root.describe()"
      ],
      "execution_count": 0,
      "outputs": [
        {
          "output_type": "stream",
          "text": [
            "Skew after cube root Transformation: 0.666768\n",
            "Kurtosis after cube root Transformation: 4.258971\n"
          ],
          "name": "stdout"
        },
        {
          "output_type": "execute_result",
          "data": {
            "text/plain": [
              "count    1460.000000\n",
              "mean       55.530542\n",
              "std         7.515260\n",
              "min        32.679480\n",
              "25%        50.654722\n",
              "50%        54.625556\n",
              "75%        59.814240\n",
              "max        91.057485\n",
              "Name: SalePrice, dtype: float64"
            ]
          },
          "metadata": {
            "tags": []
          },
          "execution_count": 20
        },
        {
          "output_type": "display_data",
          "data": {
            "image/png": "[encoded data removed]",
            "text/plain": [
              "<Figure size 864x432 with 1 Axes>"
            ]
          },
          "metadata": {
            "tags": [],
            "needs_background": "light"
          }
        }
      ]
    },
    {
      "cell_type": "markdown",
      "metadata": {
        "id": "PIova0y7R3Dj",
        "colab_type": "text"
      },
      "source": [
        "\n",
        "Cube root transformation seems to have stronger impact than square root here. We can use cube root transformation with both positive and negative values and with negative skewed data also."
      ]
    },
    {
      "cell_type": "markdown",
      "metadata": {
        "id": "6fA5EFmNNgms",
        "colab_type": "text"
      },
      "source": [
        "### Log Transformation"
      ]
    },
    {
      "cell_type": "code",
      "metadata": {
        "id": "UA3R9tWLR3Dl",
        "colab_type": "code",
        "outputId": "9c6f8e9b-92e9-4544-e550-502bd1f252b8",
        "colab": {}
      },
      "source": [
        "#log transformation\n",
        "Log = np.log1p(df['SalePrice']) \n",
        "sns.distplot(Log, fit=norm,color =\"r\")\n",
        "print(\"Skew after Log Transformation: %f\" % Log.skew())\n",
        "print(\"Kurtosis after Log Transformation: %f\" % kurtosis(Log,fisher = False))\n",
        "Log.describe()"
      ],
      "execution_count": 0,
      "outputs": [
        {
          "output_type": "stream",
          "text": [
            "Skew after Log Transformation: 0.121347\n",
            "Kurtosis after Log Transformation: 3.802643\n"
          ],
          "name": "stdout"
        },
        {
          "output_type": "execute_result",
          "data": {
            "text/plain": [
              "count    1460.000000\n",
              "mean       12.024057\n",
              "std         0.399449\n",
              "min        10.460271\n",
              "25%        11.775105\n",
              "50%        12.001512\n",
              "75%        12.273736\n",
              "max        13.534474\n",
              "Name: SalePrice, dtype: float64"
            ]
          },
          "metadata": {
            "tags": []
          },
          "execution_count": 12
        },
        {
          "output_type": "display_data",
          "data": {
            "image/png": "[encoded data removed]",
            "text/plain": [
              "<Figure size 432x288 with 1 Axes>"
            ]
          },
          "metadata": {
            "tags": [],
            "needs_background": "light"
          }
        }
      ]
    },
    {
      "cell_type": "markdown",
      "metadata": {
        "id": "-rd9FNCBR3Dx",
        "colab_type": "text"
      },
      "source": [
        "Log transformation is most powerful with these kind of dataset. Now, the distribution seems more normaly distibuted."
      ]
    },
    {
      "cell_type": "markdown",
      "metadata": {
        "id": "es1W3rEyNnMK",
        "colab_type": "text"
      },
      "source": [
        "### Log of log transformation"
      ]
    },
    {
      "cell_type": "code",
      "metadata": {
        "id": "NeechcERR3D0",
        "colab_type": "code",
        "outputId": "cb7e6716-7e2e-4077-c952-60e0f3c337a9",
        "colab": {}
      },
      "source": [
        "#Log of log transformation\n",
        "log_of_log = np.log1p(Log)\n",
        "sns.distplot(log_of_log, fit=norm,color =\"r\")\n",
        "print(\"Skew after taking log of log Transformation: %f\" % log_of_log.skew())\n",
        "print(\"Kurtosis after Log Transformation: %f\" % kurtosis(log_of_log,fisher = False))\n",
        "log_of_log.describe()"
      ],
      "execution_count": 0,
      "outputs": [
        {
          "output_type": "stream",
          "text": [
            "Skew after taking log of log Transformation: -0.009229\n",
            "Kurtosis after Log Transformation: 3.879888\n"
          ],
          "name": "stdout"
        },
        {
          "output_type": "execute_result",
          "data": {
            "text/plain": [
              "count    1460.000000\n",
              "mean        2.566329\n",
              "std         0.030660\n",
              "min         2.438886\n",
              "25%         2.547498\n",
              "50%         2.565066\n",
              "75%         2.585787\n",
              "max         2.676523\n",
              "Name: SalePrice, dtype: float64"
            ]
          },
          "metadata": {
            "tags": []
          },
          "execution_count": 13
        },
        {
          "output_type": "display_data",
          "data": {
            "image/png": "[encoded data removed]",
            "text/plain": [
              "<Figure size 432x288 with 1 Axes>"
            ]
          },
          "metadata": {
            "tags": [],
            "needs_background": "light"
          }
        }
      ]
    },
    {
      "cell_type": "markdown",
      "metadata": {
        "id": "GkXl8NYIR3EA",
        "colab_type": "text"
      },
      "source": [
        "Among all the transformation method mentioned above, log of log transformations is best with this data with the skew of -0.009 and kurtosis 3.87."
      ]
    },
    {
      "cell_type": "markdown",
      "metadata": {
        "id": "aVne22VhNtt_",
        "colab_type": "text"
      },
      "source": [
        "### Log max transformation"
      ]
    },
    {
      "cell_type": "code",
      "metadata": {
        "id": "WsuhPM-7R3EC",
        "colab_type": "code",
        "outputId": "2a75a3d2-e17c-46f7-c6e8-cbfb710a5040",
        "colab": {}
      },
      "source": [
        "#Log max tranformation\n",
        "log_max = np.log(df['SalePrice'].max())\n",
        "log_max_root = df['SalePrice']**(1/log_max)\n",
        "sns.distplot(log_max_root, fit=norm,color =\"r\")\n",
        "print(\"Skew after Log max Transformation: %f\" % log_max_root.skew())\n",
        "print(\"Kurtosis after Log max Transformation: %f\" % kurtosis(log_max_root,fisher = False))\n",
        "log_max_root.describe()"
      ],
      "execution_count": 0,
      "outputs": [
        {
          "output_type": "stream",
          "text": [
            "Skew after Log max Transformation: 0.243824\n",
            "Kurtosis after Log max Transformation: 3.800638\n"
          ],
          "name": "stdout"
        },
        {
          "output_type": "execute_result",
          "data": {
            "text/plain": [
              "count    1460.000000\n",
              "mean        2.432301\n",
              "std         0.071944\n",
              "min         2.165950\n",
              "25%         2.386930\n",
              "50%         2.427195\n",
              "75%         2.476508\n",
              "max         2.718282\n",
              "Name: SalePrice, dtype: float64"
            ]
          },
          "metadata": {
            "tags": []
          },
          "execution_count": 15
        },
        {
          "output_type": "display_data",
          "data": {
            "image/png": "[encoded data removed]",
            "text/plain": [
              "<Figure size 432x288 with 1 Axes>"
            ]
          },
          "metadata": {
            "tags": [],
            "needs_background": "light"
          }
        }
      ]
    },
    {
      "cell_type": "markdown",
      "metadata": {
        "id": "fVwjbkJxR3EO",
        "colab_type": "text"
      },
      "source": [
        "We can also use Box-cox transformation with different lambda values. Box-cox transformation with the lambda value 0 is nothing but log transformation. Below is the list of different lanbda values we can consider while doing box-cox transformation.\n"
      ]
    },
    {
      "cell_type": "markdown",
      "metadata": {
        "id": "dVzZJfNsR3ET",
        "colab_type": "text"
      },
      "source": [
        "Lambda= -2 --> Y'=1/Y2 \n",
        "\n",
        "Lambda= -1 --> Y'=1/Y\n",
        "\n",
        "Lambda= -0.5 --> Y'=1/SQRT(Y)\n",
        "\n",
        "Lambda= 0 --> Y'=LOG(Y)\n",
        "\n",
        "Lambda= 0.5 --> Y'=SQRT(Y)\n",
        "\n",
        "Lambda= 1 --> Y'=Y\n",
        "\n",
        "Lambda= 2 --> Y'=Y2"
      ]
    },
    {
      "cell_type": "markdown",
      "metadata": {
        "id": "0vZi2Mi5R3EV",
        "colab_type": "text"
      },
      "source": [
        "Box-cox transformation only works if all the data is positive and greater than 0. In case of negative data, we can add a constant value to make it positive before applying box-cox transformation."
      ]
    },
    {
      "cell_type": "markdown",
      "metadata": {
        "id": "QEbGlgs4N4el",
        "colab_type": "text"
      },
      "source": [
        "## Box-cox transformation"
      ]
    },
    {
      "cell_type": "code",
      "metadata": {
        "id": "cvP89M3mR3EY",
        "colab_type": "code",
        "outputId": "30fb1899-c42e-4cd1-cfdf-3d2e9a5e2f27",
        "colab": {}
      },
      "source": [
        "#Box-cox tranformation\n",
        "Box_cox = st.boxcox(df['SalePrice'],lmbda=0)\n",
        "sns.distplot(Box_cox,fit=norm, color =\"r\")\n",
        "print(\"Skew after box cox Transformation: %f\" % skew(Box_cox))\n",
        "print(\"kurt after box cox Transformation: %f\" % kurtosis(Box_cox,fisher = False))"
      ],
      "execution_count": 0,
      "outputs": [
        {
          "output_type": "stream",
          "text": [
            "Skew after box cox Transformation: 0.121210\n",
            "kurt after box cox Transformation: 3.802656\n"
          ],
          "name": "stdout"
        },
        {
          "output_type": "display_data",
          "data": {
            "image/png": "[encoded data removed]",
            "text/plain": [
              "<Figure size 432x288 with 1 Axes>"
            ]
          },
          "metadata": {
            "tags": [],
            "needs_background": "light"
          }
        }
      ]
    },
    {
      "cell_type": "code",
      "metadata": {
        "id": "RpgXbR9jWY9s",
        "colab_type": "code",
        "colab": {}
      },
      "source": [
        ""
      ],
      "execution_count": 0,
      "outputs": []
    }
  ]
}