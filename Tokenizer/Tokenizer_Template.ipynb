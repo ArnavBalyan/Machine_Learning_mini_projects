{
  "nbformat": 4,
  "nbformat_minor": 0,
  "metadata": {
    "colab": {
      "name": "Tokenizer Template.ipynb",
      "provenance": []
    },
    "kernelspec": {
      "name": "python3",
      "display_name": "Python 3"
    }
  },
  "cells": [
    {
      "cell_type": "markdown",
      "metadata": {
        "id": "tXmh5sGe4uv6",
        "colab_type": "text"
      },
      "source": [
        "## **Introduction to Tokenizer**\n"
      ]
    },
    {
      "cell_type": "markdown",
      "metadata": {
        "id": "Qz0KRn8l4yXP",
        "colab_type": "text"
      },
      "source": [
        "**Import required libraries**"
      ]
    },
    {
      "cell_type": "code",
      "metadata": {
        "id": "welKcZhP4ruG",
        "colab_type": "code",
        "colab": {}
      },
      "source": [
        "import tensorflow as tf\n",
        "from tensorflow.keras.preprocessing.text import Tokenizer\n",
        "from tensorflow.keras.preprocessing.sequence import pad_sequences"
      ],
      "execution_count": 0,
      "outputs": []
    },
    {
      "cell_type": "markdown",
      "metadata": {
        "id": "GMQuF5_h41LX",
        "colab_type": "text"
      },
      "source": [
        "**Take a list of sentence**"
      ]
    },
    {
      "cell_type": "code",
      "metadata": {
        "id": "19CqXC3R43VP",
        "colab_type": "code",
        "colab": {}
      },
      "source": [
        "# Enter the sentence below\n",
        "sentence = []"
      ],
      "execution_count": 0,
      "outputs": []
    },
    {
      "cell_type": "code",
      "metadata": {
        "id": "H1RNGJ4G5Gnx",
        "colab_type": "code",
        "colab": {}
      },
      "source": [
        "# Defining varible this can be change according to the sentences\\\n",
        "\n",
        "vocab_size=20\n",
        "max_length=10\n",
        "trunc_type='post' # It can be changed to pre and then see the diffrence in accuracy\n",
        "oov_tok='<OOV>'\n"
      ],
      "execution_count": 0,
      "outputs": []
    },
    {
      "cell_type": "markdown",
      "metadata": {
        "id": "Eznj0mAB5JBA",
        "colab_type": "text"
      },
      "source": [
        "**Apply fit_on_text method in our sentence**\n",
        "\n",
        "fit_on_texts() updates internal vocabulary based on a list of texts. This method creates the vocabulary index based on word frequency."
      ]
    },
    {
      "cell_type": "code",
      "metadata": {
        "id": "zRuefNTz5HQn",
        "colab_type": "code",
        "colab": {}
      },
      "source": [
        "tokenizer = #Write your code here\n",
        "# Write code to fit on text"
      ],
      "execution_count": 0,
      "outputs": []
    },
    {
      "cell_type": "markdown",
      "metadata": {
        "id": "lGyvDJwO5XcP",
        "colab_type": "text"
      },
      "source": [
        "**Converting string text into integer using wors_index method**"
      ]
    },
    {
      "cell_type": "code",
      "metadata": {
        "id": "FB8SugQM5YTW",
        "colab_type": "code",
        "colab": {}
      },
      "source": [
        "word_index= # Write your code here\n",
        "sequences= # Write your code here"
      ],
      "execution_count": 0,
      "outputs": []
    },
    {
      "cell_type": "markdown",
      "metadata": {
        "id": "z9EcV4b65b4F",
        "colab_type": "text"
      },
      "source": [
        "**Check the changes are done or not**"
      ]
    },
    {
      "cell_type": "code",
      "metadata": {
        "id": "AKS5kVi_5eIv",
        "colab_type": "code",
        "colab": {}
      },
      "source": [
        "print(# Write your code here)\n",
        "print(# Write  your code here)"
      ],
      "execution_count": 0,
      "outputs": []
    },
    {
      "cell_type": "markdown",
      "metadata": {
        "id": "bNHvqpo05omt",
        "colab_type": "text"
      },
      "source": [
        "**Padding**\n",
        "\n",
        "The pad_sequences() function in the Keras deep learning library can be used to pad variable length sequences."
      ]
    },
    {
      "cell_type": "code",
      "metadata": {
        "id": "WReDNbY-5qR1",
        "colab_type": "code",
        "colab": {}
      },
      "source": [
        "padded=# Write code to pad sentences"
      ],
      "execution_count": 0,
      "outputs": []
    },
    {
      "cell_type": "markdown",
      "metadata": {
        "id": "NfoW0rdR5u8E",
        "colab_type": "text"
      },
      "source": [
        "**Check the changes are done or not**"
      ]
    },
    {
      "cell_type": "code",
      "metadata": {
        "id": "unbuAMnv5wmt",
        "colab_type": "code",
        "colab": {}
      },
      "source": [
        "print(# Write  your code here)"
      ],
      "execution_count": 0,
      "outputs": []
    },
    {
      "cell_type": "markdown",
      "metadata": {
        "id": "Z5IOz-fF5ylW",
        "colab_type": "text"
      },
      "source": [
        "**Integer value corresponding to words**\n",
        "\n",
        "In the below cell there is the list of diffrent words with their corresponding unique index value which we have created using text_to_sequences function in one of the above cell.\n",
        "\n",
        "It can be printed using word_index method"
      ]
    },
    {
      "cell_type": "code",
      "metadata": {
        "id": "GgL2AdCB51su",
        "colab_type": "code",
        "colab": {}
      },
      "source": [
        "# Write your code here"
      ],
      "execution_count": 0,
      "outputs": []
    },
    {
      "cell_type": "markdown",
      "metadata": {
        "id": "pxuGwd9I58o-",
        "colab_type": "text"
      },
      "source": [
        "**Conclusion**\n"
      ]
    }
  ]
}