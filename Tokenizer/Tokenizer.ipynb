{
  "nbformat": 4,
  "nbformat_minor": 0,
  "metadata": {
    "colab": {
      "name": "Tokenizer.ipynb",
      "provenance": []
    },
    "kernelspec": {
      "name": "python3",
      "display_name": "Python 3"
    }
  },
  "cells": [
    {
      "cell_type": "markdown",
      "metadata": {
        "id": "AQ-vrMpS2ALd",
        "colab_type": "text"
      },
      "source": [
        "## **Introduction to Tokenizer**\n"
      ]
    },
    {
      "cell_type": "markdown",
      "metadata": {
        "id": "zjQE2te-2KXb",
        "colab_type": "text"
      },
      "source": [
        "**Import required libraries**"
      ]
    },
    {
      "cell_type": "code",
      "metadata": {
        "id": "tJhSTAYYy6Cx",
        "colab_type": "code",
        "colab": {}
      },
      "source": [
        "import tensorflow as tf\n",
        "from tensorflow.keras.preprocessing.text import Tokenizer\n",
        "from tensorflow.keras.preprocessing.sequence import pad_sequences"
      ],
      "execution_count": 0,
      "outputs": []
    },
    {
      "cell_type": "markdown",
      "metadata": {
        "id": "Ab8Cvki92PZF",
        "colab_type": "text"
      },
      "source": [
        "**Take a list of sentence**"
      ]
    },
    {
      "cell_type": "code",
      "metadata": {
        "id": "SWNULS-xzD_o",
        "colab_type": "code",
        "colab": {}
      },
      "source": [
        "sentence=[\"Hello How are you ?\",\"Hello\",\"How are you\",\"I am fine\", \"Thank You\"]\n"
      ],
      "execution_count": 0,
      "outputs": []
    },
    {
      "cell_type": "code",
      "metadata": {
        "id": "Ds-kU3Yfz9U9",
        "colab_type": "code",
        "colab": {}
      },
      "source": [
        "# Defining varible this can be change according to the sentences\\\n",
        "\n",
        "vocab_size=20\n",
        "max_length=10\n",
        "trunc_type='post' # It can be changed to pre and then see the diffrence in accuracy\n",
        "oov_tok='<OOV>'\n"
      ],
      "execution_count": 0,
      "outputs": []
    },
    {
      "cell_type": "markdown",
      "metadata": {
        "id": "crGhpMd423Sa",
        "colab_type": "text"
      },
      "source": [
        "**Apply fit_on_text method in our sentence**\n",
        "\n",
        "fit_on_texts() updates internal vocabulary based on a list of texts. This method creates the vocabulary index based on word frequency."
      ]
    },
    {
      "cell_type": "code",
      "metadata": {
        "id": "8rLqVTr80BB6",
        "colab_type": "code",
        "colab": {}
      },
      "source": [
        "tokenizer=Tokenizer(num_words=vocab_size,oov_token=oov_tok)\n",
        "tokenizer.fit_on_texts(sentence)"
      ],
      "execution_count": 0,
      "outputs": []
    },
    {
      "cell_type": "markdown",
      "metadata": {
        "id": "1yt8jX0s3K3L",
        "colab_type": "text"
      },
      "source": [
        "**Converting string text into integer using wors_index method**"
      ]
    },
    {
      "cell_type": "code",
      "metadata": {
        "id": "EOd03Lx20HOq",
        "colab_type": "code",
        "colab": {}
      },
      "source": [
        "word_index=tokenizer.word_index\n",
        "sequences=tokenizer.texts_to_sequences(sentence)"
      ],
      "execution_count": 0,
      "outputs": []
    },
    {
      "cell_type": "markdown",
      "metadata": {
        "id": "jqBWF1Dg3bxT",
        "colab_type": "text"
      },
      "source": [
        "**Check the changes are done or not**"
      ]
    },
    {
      "cell_type": "code",
      "metadata": {
        "id": "51VlbORO0R8y",
        "colab_type": "code",
        "colab": {
          "base_uri": "https://localhost:8080/",
          "height": 54
        },
        "outputId": "a4c0523c-959a-49b0-e6d3-d71ddf1d0a06"
      },
      "source": [
        "print(sequences)\n",
        "print(sentence)"
      ],
      "execution_count": 29,
      "outputs": [
        {
          "output_type": "stream",
          "text": [
            "[[3, 4, 5, 2], [3], [4, 5, 2], [6, 7, 8], [9, 2]]\n",
            "['Hello How are you ?', 'Hello', 'How are you', 'I am fine', 'Thank You']\n"
          ],
          "name": "stdout"
        }
      ]
    },
    {
      "cell_type": "markdown",
      "metadata": {
        "id": "kS7t_he83kyw",
        "colab_type": "text"
      },
      "source": [
        "**Padding**\n",
        "\n",
        "The pad_sequences() function in the Keras deep learning library can be used to pad variable length sequences."
      ]
    },
    {
      "cell_type": "code",
      "metadata": {
        "id": "NqUxaIuf0uP-",
        "colab_type": "code",
        "colab": {}
      },
      "source": [
        "padded=pad_sequences(sequences,maxlen=max_length,truncating=trunc_type)\n"
      ],
      "execution_count": 0,
      "outputs": []
    },
    {
      "cell_type": "markdown",
      "metadata": {
        "id": "ex9xIbEn31Li",
        "colab_type": "text"
      },
      "source": [
        "**Check the changes are done or not**"
      ]
    },
    {
      "cell_type": "code",
      "metadata": {
        "id": "kBIuPK2Q0u6V",
        "colab_type": "code",
        "colab": {
          "base_uri": "https://localhost:8080/",
          "height": 108
        },
        "outputId": "d73aa03c-6198-493a-c4c9-948a15098cf1"
      },
      "source": [
        "print(padded)"
      ],
      "execution_count": 31,
      "outputs": [
        {
          "output_type": "stream",
          "text": [
            "[[0 0 0 0 0 0 3 4 5 2]\n",
            " [0 0 0 0 0 0 0 0 0 3]\n",
            " [0 0 0 0 0 0 0 4 5 2]\n",
            " [0 0 0 0 0 0 0 6 7 8]\n",
            " [0 0 0 0 0 0 0 0 9 2]]\n"
          ],
          "name": "stdout"
        }
      ]
    },
    {
      "cell_type": "markdown",
      "metadata": {
        "id": "dxXGXo7F3_7Q",
        "colab_type": "text"
      },
      "source": [
        "**Integer value corresponding to words**\n",
        "\n",
        "In the below cell there is the list of diffrent words with their corresponding unique index value which we have created using text_to_sequences function in one of the above cell.\n",
        "\n",
        "It can be printed using word_index method"
      ]
    },
    {
      "cell_type": "code",
      "metadata": {
        "id": "sulJWVBL0wi9",
        "colab_type": "code",
        "colab": {
          "base_uri": "https://localhost:8080/",
          "height": 181
        },
        "outputId": "637b0332-15da-4d98-dc20-524d20751090"
      },
      "source": [
        "tokenizer.word_index"
      ],
      "execution_count": 32,
      "outputs": [
        {
          "output_type": "execute_result",
          "data": {
            "text/plain": [
              "{'<OOV>': 1,\n",
              " 'am': 7,\n",
              " 'are': 5,\n",
              " 'fine': 8,\n",
              " 'hello': 3,\n",
              " 'how': 4,\n",
              " 'i': 6,\n",
              " 'thank': 9,\n",
              " 'you': 2}"
            ]
          },
          "metadata": {
            "tags": []
          },
          "execution_count": 32
        }
      ]
    },
    {
      "cell_type": "markdown",
      "metadata": {
        "id": "iEtzNMpb4IER",
        "colab_type": "text"
      },
      "source": [
        "**Conclusion**\n",
        "\n",
        "Here we have implemented basic of tokenizer that will help in sentiment clasification using deep learning."
      ]
    }
  ]
}