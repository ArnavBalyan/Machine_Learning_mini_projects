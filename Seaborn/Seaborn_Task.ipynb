{
 "cells": [
  {
   "cell_type": "markdown",
   "metadata": {},
   "source": [
    "## Introduction to Seaborn : statistical data visualisation"
   ]
  },
  {
   "cell_type": "markdown",
   "metadata": {},
   "source": [
    "Seaborn is a **Python data visualization library** based on **matplotlib**.\n",
    "It provides a high-level interface for drawing attractive and informative statistical graphics."
   ]
  },
  {
   "cell_type": "markdown",
   "metadata": {},
   "source": [
    "### Downloading seaborn"
   ]
  },
  {
   "cell_type": "markdown",
   "metadata": {},
   "source": [
    "If you are using pip installer for Python libraries, you can execute the following command to download the library:\n",
    "\n",
    "> * pip install seaborn\n",
    "\n",
    "Alternatively, if you are using the Anaconda distribution of Python, you can use execute the following command to download the seaborn library:\n",
    "\n",
    "> * conda install seaborn"
   ]
  },
  {
   "cell_type": "markdown",
   "metadata": {},
   "source": [
    "### Requirement:\n",
    "- Seaborn library\n",
    "- Sklearn\n",
    "- Pandas\n",
    "- Matplotlib"
   ]
  },
  {
   "cell_type": "markdown",
   "metadata": {},
   "source": [
    "### Content \n",
    "- Distributional plots\n",
    "- Joint plots\n",
    "- Pair plots\n",
    "- Bar plots\n",
    "- Count plots\n",
    "- Box plots"
   ]
  },
  {
   "cell_type": "markdown",
   "metadata": {},
   "source": [
    "### Import libraries"
   ]
  },
  {
   "cell_type": "code",
   "execution_count": null,
   "metadata": {},
   "outputs": [],
   "source": [
    "\"\"\"import all the neccessary libraries\"\"\"\n",
    "\n"
   ]
  },
  {
   "cell_type": "markdown",
   "metadata": {},
   "source": [
    "### Load the dataset"
   ]
  },
  {
   "cell_type": "code",
   "execution_count": null,
   "metadata": {},
   "outputs": [],
   "source": [
    "\"\"\" Load the titanic dataset of using seaborn library and display top 5 rows of dataset\"\"\"\n",
    "\n"
   ]
  },
  {
   "cell_type": "markdown",
   "metadata": {},
   "source": [
    "### Distributional Plots\n",
    "Distributional plots, as the name suggests are type of plots that show the statistical distribution of data. "
   ]
  },
  {
   "cell_type": "markdown",
   "metadata": {},
   "source": [
    "Show the histogram distribution of data for a single column.\n",
    "- The column name is passed as a parameter to the function whose distribution we are trying to plot."
   ]
  },
  {
   "cell_type": "code",
   "execution_count": null,
   "metadata": {},
   "outputs": [],
   "source": [
    "\"\"\" distributional plot of fare column of the data\"\"\"\n"
   ]
  },
  {
   "cell_type": "markdown",
   "metadata": {},
   "source": [
    "The line that you see represents the **kernel density estimation**. You can remove this line by passing False as the parameter for the **kde attribute** below:"
   ]
  },
  {
   "cell_type": "code",
   "execution_count": null,
   "metadata": {},
   "outputs": [],
   "source": [
    "\"\"\" distributional plot of fare column of the data without kernel density estimation\"\"\"\n"
   ]
  },
  {
   "cell_type": "markdown",
   "metadata": {},
   "source": [
    "You can also pass the value for the **bins parameter** in order to see more or less details in the graph.\n",
    "**Bin** is number of division on horizontal axis."
   ]
  },
  {
   "cell_type": "code",
   "execution_count": null,
   "metadata": {},
   "outputs": [],
   "source": [
    "\"\"\" distributional plot of fare column of the data without kernel density estimation and bin of 10\n",
    "    to see things more in detail \"\"\"\n",
    "\n"
   ]
  },
  {
   "cell_type": "markdown",
   "metadata": {},
   "source": [
    "### The Joint Plot\n",
    "\n",
    "The jointplot() is used to display the mutual distribution of each column.\n",
    "\n",
    "You need to pass three parameters to jointplot:\n",
    "- the column name for which you want to display the distribution of data on x-axis.\n",
    "- the column name for which you want to display the distribution of data on y-axis.\n",
    "- the name of the data frame"
   ]
  },
  {
   "cell_type": "code",
   "execution_count": null,
   "metadata": {},
   "outputs": [],
   "source": [
    "\"\"\" plot a joint plot of age and fare columns to see if we can find any relationship between the two.\"\"\"\n",
    "\n"
   ]
  },
  {
   "cell_type": "markdown",
   "metadata": {},
   "source": [
    "Three component of the graph:\n",
    "- A distribution plot at the top for the column on the x-axis,\n",
    "- a distribution plot on the right for the column on the y-axis\n",
    "- a scatter plot in between that shows the mutual distribution of data for both the columns.\n"
   ]
  },
  {
   "cell_type": "markdown",
   "metadata": {},
   "source": [
    "You can change the type of the joint plot by passing a value for the **kind parameter**.\n",
    "For instance, if instead of scatter plot, you want to display the distribution of data in the form of a hexagonal plot, you can pass the value **hex**  for the **kind parameter**."
   ]
  },
  {
   "cell_type": "code",
   "execution_count": null,
   "metadata": {},
   "outputs": [],
   "source": [
    "\"\"\" plot a joint plot of age and fare columns to see if we can find any relationship between \n",
    "    the two, with kind parameters as hex \"\"\"\n",
    "\n"
   ]
  },
  {
   "cell_type": "markdown",
   "metadata": {},
   "source": [
    "### The Pair Plot\n",
    "The paitplot() is a type of distribution plot that basically plots a **joint plot** for all the possible combination of numeric and Boolean columns in your dataset.\n",
    "\n",
    "- You only need to pass the name of your dataset as the parameter to the pairplot() function."
   ]
  },
  {
   "cell_type": "code",
   "execution_count": null,
   "metadata": {},
   "outputs": [],
   "source": [
    "\"\"\" before executing pairplot remove all the null value\"\"\"\n"
   ]
  },
  {
   "cell_type": "code",
   "execution_count": null,
   "metadata": {
    "scrolled": true
   },
   "outputs": [],
   "source": [
    "\"\"\" write the code for pairplot of multiple data columns\"\"\"\n",
    "\n"
   ]
  },
  {
   "cell_type": "markdown",
   "metadata": {},
   "source": [
    "## Categorical Plots\n",
    "Categorical plots, as the name suggests are normally used to plot categorical data. The categorical plots plot the values in the categorical column against another categorical column or a numeric column. Let's see some of the most commonly used categorical data."
   ]
  },
  {
   "cell_type": "markdown",
   "metadata": {},
   "source": [
    "### The Bar Plot\n",
    "The barplot() is used to display the mean value for each value in a categorical column, against a numeric column. \n",
    "- The first parameter is the categorical column\n",
    "- the second parameter is the numeric column \n",
    "- the third parameter is the dataset. \n",
    "\n",
    "For instance, if you want to know the mean value of the age of the male and female passengers, you can use the bar plot as follows."
   ]
  },
  {
   "cell_type": "code",
   "execution_count": null,
   "metadata": {},
   "outputs": [],
   "source": [
    "\"\"\"plot the bar graph of sex and age , if you want to know the mean value of the age of the male and female passengers\"\"\"\n"
   ]
  },
  {
   "cell_type": "markdown",
   "metadata": {},
   "source": [
    "In addition to finding the average, the bar plot can also be used to calculate other aggregate values for each category. To do so, you need to pass the aggregate function to the estimator. For instance, you can calculate the standard deviation for the age of each gender."
   ]
  },
  {
   "cell_type": "code",
   "execution_count": null,
   "metadata": {},
   "outputs": [],
   "source": [
    "\"\"\"plot the bar graph of sex and age , if you want to know the standard deviation value of the age of the male and female passengers \"\"\""
   ]
  },
  {
   "cell_type": "markdown",
   "metadata": {},
   "source": [
    "we use the std aggregate function from the numpy library to calculate the standard deviation for the ages of male and female passengers."
   ]
  },
  {
   "cell_type": "markdown",
   "metadata": {},
   "source": [
    "### The Count Plot\n",
    "The count plot is similar to the bar plot, however it displays the count of the categories in a specific column. For instance, if we want to count the number of males and women passenger."
   ]
  },
  {
   "cell_type": "code",
   "execution_count": null,
   "metadata": {},
   "outputs": [],
   "source": [
    "\"\"\"plot the count plot to check the no of females and males in the ship\"\"\"\n",
    "\n"
   ]
  },
  {
   "cell_type": "markdown",
   "metadata": {},
   "source": [
    "### The Box Plot\n",
    "The box plot is used to display the distribution of the categorical data in the form of quartiles. \n",
    "The center of the box shows the median value.\n",
    "The value from the lower whisker to the bottom of the box shows the first quartile.\n",
    "From the bottom of the box to the middle of the box lies the second quartile.\n",
    "From the middle of the box to the top of the box lies the third quartile and\n",
    "finally from the top of the box to the top whisker lies the last quartile.\n",
    "\n",
    "- The first parameter is the categorical column\n",
    "- the second parameter is the numeric column \n",
    "- the third parameter is the dataset."
   ]
  },
  {
   "cell_type": "code",
   "execution_count": null,
   "metadata": {},
   "outputs": [],
   "source": [
    "\"\"\"plot a box plot that displays the distribution for the age with respect to each gender. \"\"\"\n",
    "\n"
   ]
  },
  {
   "cell_type": "markdown",
   "metadata": {},
   "source": [
    "If there are any outliers or the passengers that do not belong to any of the quartiles, they are called **outliers** and are represented by **dots on the box plot**."
   ]
  },
  {
   "cell_type": "markdown",
   "metadata": {},
   "source": [
    "If you want to see the box plots of forage of passengers of both genders, along with the information about whether or not they survived, you can pass the survived as value to the hue parameter"
   ]
  },
  {
   "cell_type": "code",
   "execution_count": null,
   "metadata": {},
   "outputs": [],
   "source": [
    "\"\"\"plot a box plot that displays the distribution for the age with respect to each gender with jue as survived\"\"\"\n",
    "\n"
   ]
  },
  {
   "cell_type": "markdown",
   "metadata": {},
   "source": [
    "### Further readings:\n",
    "- https://seaborn.pydata.org/tutorial.html"
   ]
  },
  {
   "cell_type": "code",
   "execution_count": null,
   "metadata": {},
   "outputs": [],
   "source": []
  }
 ],
 "metadata": {
  "kernelspec": {
   "display_name": "Python 3",
   "language": "python",
   "name": "python3"
  },
  "language_info": {
   "codemirror_mode": {
    "name": "ipython",
    "version": 3
   },
   "file_extension": ".py",
   "mimetype": "text/x-python",
   "name": "python",
   "nbconvert_exporter": "python",
   "pygments_lexer": "ipython3",
   "version": "3.7.3"
  }
 },
 "nbformat": 4,
 "nbformat_minor": 2
}
